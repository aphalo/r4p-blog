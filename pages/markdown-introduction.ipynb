{
  "cells": [
    {
      "cell_type": "raw",
      "metadata": {},
      "source": [
        "---\n",
        "title: \"Markdown Basics\"\n",
        "subtitle: \"Text mark up vs. visual editors\"\n",
        "author: \"Pedro J. Aphalo\"\n",
        "date: 2022-05-03\n",
        "date-modified: 2023-05-13\n",
        "categories: [Text markup]\n",
        "keywords: [markdown pkg, knittr pkg, text markup]\n",
        "format:\n",
        "  html:\n",
        "    code-fold: true\n",
        "    code-tools: true\n",
        "---"
      ],
      "id": "c27b6603"
    },
    {
      "cell_type": "markdown",
      "metadata": {},
      "source": [
        "```{default}\n",
        "_italics_\n",
        "```"
      ],
      "id": "33f5c2bf"
    }
  ],
  "metadata": {
    "kernelspec": {
      "display_name": "Python 3",
      "language": "python",
      "name": "python3"
    }
  },
  "nbformat": 4,
  "nbformat_minor": 5
}